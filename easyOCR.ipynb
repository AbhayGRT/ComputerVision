{
 "cells": [
  {
   "cell_type": "code",
   "execution_count": 2,
   "metadata": {},
   "outputs": [],
   "source": [
    "import pytesseract\n",
    "pytesseract.pytesseract.tesseract_cmd = \"C:/Program Files/Tesseract-OCR/tesseract.exe\"\n",
    "import cv2"
   ]
  },
  {
   "cell_type": "code",
   "execution_count": 3,
   "metadata": {},
   "outputs": [],
   "source": [
    "import cv2"
   ]
  },
  {
   "cell_type": "code",
   "execution_count": 4,
   "metadata": {},
   "outputs": [],
   "source": [
    "img = cv2.imread(\"C:/Users/Admin/Desktop/CV/bill3.png\")\n",
    "cv2.imshow('sample image',img)\n",
    "cv2.waitKey(0)\n",
    "cv2.destroyAllWindows()"
   ]
  },
  {
   "cell_type": "code",
   "execution_count": 5,
   "metadata": {},
   "outputs": [
    {
     "name": "stdout",
     "output_type": "stream",
     "text": [
      "Ying Thai Kitchen\n",
      "2220 Queen Anne AVE N\n",
      "Seattle WA 98109\n",
      "« (206) 285-8424 Fax. (206) 285-8427\n",
      "‘uw .yingthaikitchen.com\n",
      "Welcome to Ying Thai Kitchen Restaurant.\n",
      "\n",
      "Order#:17 Table 2\n",
      "Date: 7/4/2013 7:28 PM\n",
      "\n",
      "Server: Jack (1.4)\n",
      "44 Ginger Lover $9.50\n",
      "[Pork] [24#]\n",
      "\n",
      "Brown Rice $2.00\n",
      "Total 2 iten(s) $11.50\n",
      "Sales Tax $1.09\n",
      "Grand Total $12.59\n",
      "Tip Guide\n",
      "\n",
      "TEK=$1.89, 18%=$2.27, 20%=82.52\n",
      "Thank you very much,\n",
      "Cone back again\n",
      "\n"
     ]
    }
   ],
   "source": [
    "text = pytesseract.image_to_string(img)\n",
    "print(text)"
   ]
  },
  {
   "cell_type": "code",
   "execution_count": 6,
   "metadata": {},
   "outputs": [],
   "source": [
    "easyOCR_data = []\n",
    "easyOCR_data.append(text)"
   ]
  },
  {
   "cell_type": "code",
   "execution_count": null,
   "metadata": {},
   "outputs": [],
   "source": [
    "import pandas as pd\n",
    "df = pd.DataFrame(columns=['Date','Title','Amount','Payment_Type','Products'])"
   ]
  },
  {
   "attachments": {},
   "cell_type": "markdown",
   "metadata": {},
   "source": [
    "1. Date\n",
    "2. List of Products\n",
    "3. Total amount paid\n",
    "4. Payment Method\n",
    "5. Name(Title)"
   ]
  },
  {
   "attachments": {},
   "cell_type": "markdown",
   "metadata": {},
   "source": [
    "NEW"
   ]
  },
  {
   "cell_type": "code",
   "execution_count": 3,
   "metadata": {},
   "outputs": [],
   "source": [
    "import pytesseract\n",
    "pytesseract.pytesseract.tesseract_cmd = \"C:/Program Files/Tesseract-OCR/tesseract.exe\"\n",
    "import cv2"
   ]
  },
  {
   "cell_type": "code",
   "execution_count": 4,
   "metadata": {},
   "outputs": [],
   "source": [
    "from os import listdir\n",
    "from os.path import isfile,join"
   ]
  },
  {
   "cell_type": "code",
   "execution_count": 5,
   "metadata": {},
   "outputs": [],
   "source": [
    "receipts_folder  = \"C:/Users/Admin/Desktop/CVPROJECT/flask/archive/SROIE2019/train/img\"\n",
    "files = [join(receipts_folder,receipt) for receipt in listdir(receipts_folder) if isfile(join(receipts_folder,receipt))]"
   ]
  },
  {
   "cell_type": "code",
   "execution_count": 6,
   "metadata": {},
   "outputs": [
    {
     "name": "stdout",
     "output_type": "stream",
     "text": [
      "['C:/Users/Admin/Desktop/CVPROJECT/flask/archive/SROIE2019/train/img\\\\X00016469612.jpg', 'C:/Users/Admin/Desktop/CVPROJECT/flask/archive/SROIE2019/train/img\\\\X00016469619.jpg', 'C:/Users/Admin/Desktop/CVPROJECT/flask/archive/SROIE2019/train/img\\\\X00016469620.jpg', 'C:/Users/Admin/Desktop/CVPROJECT/flask/archive/SROIE2019/train/img\\\\X00016469622.jpg', 'C:/Users/Admin/Desktop/CVPROJECT/flask/archive/SROIE2019/train/img\\\\X00016469623.jpg', 'C:/Users/Admin/Desktop/CVPROJECT/flask/archive/SROIE2019/train/img\\\\X00016469669.jpg', 'C:/Users/Admin/Desktop/CVPROJECT/flask/archive/SROIE2019/train/img\\\\X00016469672.jpg', 'C:/Users/Admin/Desktop/CVPROJECT/flask/archive/SROIE2019/train/img\\\\X00016469676.jpg', 'C:/Users/Admin/Desktop/CVPROJECT/flask/archive/SROIE2019/train/img\\\\X51005200938.jpg', 'C:/Users/Admin/Desktop/CVPROJECT/flask/archive/SROIE2019/train/img\\\\X51005230617.jpg', 'C:/Users/Admin/Desktop/CVPROJECT/flask/archive/SROIE2019/train/img\\\\X51005255805.jpg', 'C:/Users/Admin/Desktop/CVPROJECT/flask/archive/SROIE2019/train/img\\\\X51005268200.jpg', 'C:/Users/Admin/Desktop/CVPROJECT/flask/archive/SROIE2019/train/img\\\\X51005268262.jpg', 'C:/Users/Admin/Desktop/CVPROJECT/flask/archive/SROIE2019/train/img\\\\X51005268400.jpg', 'C:/Users/Admin/Desktop/CVPROJECT/flask/archive/SROIE2019/train/img\\\\X51005268472.jpg', 'C:/Users/Admin/Desktop/CVPROJECT/flask/archive/SROIE2019/train/img\\\\X51005301659.jpg', 'C:/Users/Admin/Desktop/CVPROJECT/flask/archive/SROIE2019/train/img\\\\X51005301661.jpg', 'C:/Users/Admin/Desktop/CVPROJECT/flask/archive/SROIE2019/train/img\\\\X51005301667.jpg', 'C:/Users/Admin/Desktop/CVPROJECT/flask/archive/SROIE2019/train/img\\\\X51005303661.jpg', 'C:/Users/Admin/Desktop/CVPROJECT/flask/archive/SROIE2019/train/img\\\\X51005306399.jpg', 'C:/Users/Admin/Desktop/CVPROJECT/flask/archive/SROIE2019/train/img\\\\X51005337872.jpg', 'C:/Users/Admin/Desktop/CVPROJECT/flask/archive/SROIE2019/train/img\\\\X51005361883.jpg', 'C:/Users/Admin/Desktop/CVPROJECT/flask/archive/SROIE2019/train/img\\\\X51005361895.jpg', 'C:/Users/Admin/Desktop/CVPROJECT/flask/archive/SROIE2019/train/img\\\\X51005361897.jpg', 'C:/Users/Admin/Desktop/CVPROJECT/flask/archive/SROIE2019/train/img\\\\X51005361898.jpg', 'C:/Users/Admin/Desktop/CVPROJECT/flask/archive/SROIE2019/train/img\\\\X51005361900.jpg', 'C:/Users/Admin/Desktop/CVPROJECT/flask/archive/SROIE2019/train/img\\\\X51005361907.jpg', 'C:/Users/Admin/Desktop/CVPROJECT/flask/archive/SROIE2019/train/img\\\\X51005361946.jpg', 'C:/Users/Admin/Desktop/CVPROJECT/flask/archive/SROIE2019/train/img\\\\X51005361950.jpg', 'C:/Users/Admin/Desktop/CVPROJECT/flask/archive/SROIE2019/train/img\\\\X51005365179.jpg', 'C:/Users/Admin/Desktop/CVPROJECT/flask/archive/SROIE2019/train/img\\\\X51005433492.jpg', 'C:/Users/Admin/Desktop/CVPROJECT/flask/archive/SROIE2019/train/img\\\\X51005433494.jpg', 'C:/Users/Admin/Desktop/CVPROJECT/flask/archive/SROIE2019/train/img\\\\X51005433514.jpg', 'C:/Users/Admin/Desktop/CVPROJECT/flask/archive/SROIE2019/train/img\\\\X51005433522.jpg', 'C:/Users/Admin/Desktop/CVPROJECT/flask/archive/SROIE2019/train/img\\\\X51005433533.jpg', 'C:/Users/Admin/Desktop/CVPROJECT/flask/archive/SROIE2019/train/img\\\\X51005433538.jpg', 'C:/Users/Admin/Desktop/CVPROJECT/flask/archive/SROIE2019/train/img\\\\X51005433541.jpg', 'C:/Users/Admin/Desktop/CVPROJECT/flask/archive/SROIE2019/train/img\\\\X51005433552.jpg', 'C:/Users/Admin/Desktop/CVPROJECT/flask/archive/SROIE2019/train/img\\\\X51005433553.jpg', 'C:/Users/Admin/Desktop/CVPROJECT/flask/archive/SROIE2019/train/img\\\\X51005441398.jpg', 'C:/Users/Admin/Desktop/CVPROJECT/flask/archive/SROIE2019/train/img\\\\X51005441401.jpg', 'C:/Users/Admin/Desktop/CVPROJECT/flask/archive/SROIE2019/train/img\\\\X51005441402.jpg', 'C:/Users/Admin/Desktop/CVPROJECT/flask/archive/SROIE2019/train/img\\\\X51005441407.jpg', 'C:/Users/Admin/Desktop/CVPROJECT/flask/archive/SROIE2019/train/img\\\\X51005441408.jpg', 'C:/Users/Admin/Desktop/CVPROJECT/flask/archive/SROIE2019/train/img\\\\X51005442327.jpg', 'C:/Users/Admin/Desktop/CVPROJECT/flask/archive/SROIE2019/train/img\\\\X51005442333.jpg', 'C:/Users/Admin/Desktop/CVPROJECT/flask/archive/SROIE2019/train/img\\\\X51005442338.jpg', 'C:/Users/Admin/Desktop/CVPROJECT/flask/archive/SROIE2019/train/img\\\\X51005442341.jpg', 'C:/Users/Admin/Desktop/CVPROJECT/flask/archive/SROIE2019/train/img\\\\X51005442344.jpg', 'C:/Users/Admin/Desktop/CVPROJECT/flask/archive/SROIE2019/train/img\\\\X51005442346.jpg', 'C:/Users/Admin/Desktop/CVPROJECT/flask/archive/SROIE2019/train/img\\\\X51005442361.jpg', 'C:/Users/Admin/Desktop/CVPROJECT/flask/archive/SROIE2019/train/img\\\\X51005442376.jpg', 'C:/Users/Admin/Desktop/CVPROJECT/flask/archive/SROIE2019/train/img\\\\X51005442378.jpg', 'C:/Users/Admin/Desktop/CVPROJECT/flask/archive/SROIE2019/train/img\\\\X51005442379.jpg', 'C:/Users/Admin/Desktop/CVPROJECT/flask/archive/SROIE2019/train/img\\\\X51005442383.jpg', 'C:/Users/Admin/Desktop/CVPROJECT/flask/archive/SROIE2019/train/img\\\\X51005442384.jpg', 'C:/Users/Admin/Desktop/CVPROJECT/flask/archive/SROIE2019/train/img\\\\X51005442386.jpg', 'C:/Users/Admin/Desktop/CVPROJECT/flask/archive/SROIE2019/train/img\\\\X51005442392.jpg', 'C:/Users/Admin/Desktop/CVPROJECT/flask/archive/SROIE2019/train/img\\\\X51005442394.jpg', 'C:/Users/Admin/Desktop/CVPROJECT/flask/archive/SROIE2019/train/img\\\\X51005442397.jpg', 'C:/Users/Admin/Desktop/CVPROJECT/flask/archive/SROIE2019/train/img\\\\X51005444033.jpg', 'C:/Users/Admin/Desktop/CVPROJECT/flask/archive/SROIE2019/train/img\\\\X51005444037.jpg', 'C:/Users/Admin/Desktop/CVPROJECT/flask/archive/SROIE2019/train/img\\\\X51005444045.jpg', 'C:/Users/Admin/Desktop/CVPROJECT/flask/archive/SROIE2019/train/img\\\\X51005447832.jpg', 'C:/Users/Admin/Desktop/CVPROJECT/flask/archive/SROIE2019/train/img\\\\X51005447833.jpg', 'C:/Users/Admin/Desktop/CVPROJECT/flask/archive/SROIE2019/train/img\\\\X51005447839.jpg', 'C:/Users/Admin/Desktop/CVPROJECT/flask/archive/SROIE2019/train/img\\\\X51005447840.jpg', 'C:/Users/Admin/Desktop/CVPROJECT/flask/archive/SROIE2019/train/img\\\\X51005447848.jpg', 'C:/Users/Admin/Desktop/CVPROJECT/flask/archive/SROIE2019/train/img\\\\X51005447850.jpg', 'C:/Users/Admin/Desktop/CVPROJECT/flask/archive/SROIE2019/train/img\\\\X51005447852.jpg', 'C:/Users/Admin/Desktop/CVPROJECT/flask/archive/SROIE2019/train/img\\\\X51005447853.jpg', 'C:/Users/Admin/Desktop/CVPROJECT/flask/archive/SROIE2019/train/img\\\\X51005447860.jpg', 'C:/Users/Admin/Desktop/CVPROJECT/flask/archive/SROIE2019/train/img\\\\X51005447861.jpg', 'C:/Users/Admin/Desktop/CVPROJECT/flask/archive/SROIE2019/train/img\\\\X51005453729.jpg', 'C:/Users/Admin/Desktop/CVPROJECT/flask/archive/SROIE2019/train/img\\\\X51005453801.jpg', 'C:/Users/Admin/Desktop/CVPROJECT/flask/archive/SROIE2019/train/img\\\\X51005453802.jpg', 'C:/Users/Admin/Desktop/CVPROJECT/flask/archive/SROIE2019/train/img\\\\X51005453804.jpg', 'C:/Users/Admin/Desktop/CVPROJECT/flask/archive/SROIE2019/train/img\\\\X51005568827.jpg', 'C:/Users/Admin/Desktop/CVPROJECT/flask/archive/SROIE2019/train/img\\\\X51005568829.jpg', 'C:/Users/Admin/Desktop/CVPROJECT/flask/archive/SROIE2019/train/img\\\\X51005568880.jpg', 'C:/Users/Admin/Desktop/CVPROJECT/flask/archive/SROIE2019/train/img\\\\X51005568881.jpg', 'C:/Users/Admin/Desktop/CVPROJECT/flask/archive/SROIE2019/train/img\\\\X51005568884.jpg', 'C:/Users/Admin/Desktop/CVPROJECT/flask/archive/SROIE2019/train/img\\\\X51005568891.jpg', 'C:/Users/Admin/Desktop/CVPROJECT/flask/archive/SROIE2019/train/img\\\\X51005568898.jpg', 'C:/Users/Admin/Desktop/CVPROJECT/flask/archive/SROIE2019/train/img\\\\X51005568899.jpg', 'C:/Users/Admin/Desktop/CVPROJECT/flask/archive/SROIE2019/train/img\\\\X51005568900.jpg', 'C:/Users/Admin/Desktop/CVPROJECT/flask/archive/SROIE2019/train/img\\\\X51005568911.jpg', 'C:/Users/Admin/Desktop/CVPROJECT/flask/archive/SROIE2019/train/img\\\\X51005568913.jpg', 'C:/Users/Admin/Desktop/CVPROJECT/flask/archive/SROIE2019/train/img\\\\X51005568914.jpg', 'C:/Users/Admin/Desktop/CVPROJECT/flask/archive/SROIE2019/train/img\\\\X51005577192.jpg', 'C:/Users/Admin/Desktop/CVPROJECT/flask/archive/SROIE2019/train/img\\\\X51005587254.jpg', 'C:/Users/Admin/Desktop/CVPROJECT/flask/archive/SROIE2019/train/img\\\\X51005587267.jpg', 'C:/Users/Admin/Desktop/CVPROJECT/flask/archive/SROIE2019/train/img\\\\X51005605284.jpg', 'C:/Users/Admin/Desktop/CVPROJECT/flask/archive/SROIE2019/train/img\\\\X51005605285.jpg', 'C:/Users/Admin/Desktop/CVPROJECT/flask/archive/SROIE2019/train/img\\\\X51005605286.jpg', 'C:/Users/Admin/Desktop/CVPROJECT/flask/archive/SROIE2019/train/img\\\\X51005605333.jpg', 'C:/Users/Admin/Desktop/CVPROJECT/flask/archive/SROIE2019/train/img\\\\X51005605334.jpg', 'C:/Users/Admin/Desktop/CVPROJECT/flask/archive/SROIE2019/train/img\\\\X51005605335.jpg', 'C:/Users/Admin/Desktop/CVPROJECT/flask/archive/SROIE2019/train/img\\\\X51005663272.jpg', 'C:/Users/Admin/Desktop/CVPROJECT/flask/archive/SROIE2019/train/img\\\\X51005663273.jpg', 'C:/Users/Admin/Desktop/CVPROJECT/flask/archive/SROIE2019/train/img\\\\X51005663276.jpg', 'C:/Users/Admin/Desktop/CVPROJECT/flask/archive/SROIE2019/train/img\\\\X51005663277.jpg', 'C:/Users/Admin/Desktop/CVPROJECT/flask/archive/SROIE2019/train/img\\\\X51005663278.jpg', 'C:/Users/Admin/Desktop/CVPROJECT/flask/archive/SROIE2019/train/img\\\\X51005663279.jpg', 'C:/Users/Admin/Desktop/CVPROJECT/flask/archive/SROIE2019/train/img\\\\X51005663280.jpg', 'C:/Users/Admin/Desktop/CVPROJECT/flask/archive/SROIE2019/train/img\\\\X51005663293.jpg', 'C:/Users/Admin/Desktop/CVPROJECT/flask/archive/SROIE2019/train/img\\\\X51005663297.jpg', 'C:/Users/Admin/Desktop/CVPROJECT/flask/archive/SROIE2019/train/img\\\\X51005663298.jpg', 'C:/Users/Admin/Desktop/CVPROJECT/flask/archive/SROIE2019/train/img\\\\X51005663301.jpg', 'C:/Users/Admin/Desktop/CVPROJECT/flask/archive/SROIE2019/train/img\\\\X51005663311.jpg', 'C:/Users/Admin/Desktop/CVPROJECT/flask/archive/SROIE2019/train/img\\\\X51005663317.jpg', 'C:/Users/Admin/Desktop/CVPROJECT/flask/archive/SROIE2019/train/img\\\\X51005663324.jpg', 'C:/Users/Admin/Desktop/CVPROJECT/flask/archive/SROIE2019/train/img\\\\X51005675095.jpg', 'C:/Users/Admin/Desktop/CVPROJECT/flask/archive/SROIE2019/train/img\\\\X51005676536.jpg', 'C:/Users/Admin/Desktop/CVPROJECT/flask/archive/SROIE2019/train/img\\\\X51005676538.jpg', 'C:/Users/Admin/Desktop/CVPROJECT/flask/archive/SROIE2019/train/img\\\\X51005676539.jpg', 'C:/Users/Admin/Desktop/CVPROJECT/flask/archive/SROIE2019/train/img\\\\X51005676540.jpg', 'C:/Users/Admin/Desktop/CVPROJECT/flask/archive/SROIE2019/train/img\\\\X51005676541.jpg', 'C:/Users/Admin/Desktop/CVPROJECT/flask/archive/SROIE2019/train/img\\\\X51005676543.jpg', 'C:/Users/Admin/Desktop/CVPROJECT/flask/archive/SROIE2019/train/img\\\\X51005676544.jpg', 'C:/Users/Admin/Desktop/CVPROJECT/flask/archive/SROIE2019/train/img\\\\X51005676545.jpg', 'C:/Users/Admin/Desktop/CVPROJECT/flask/archive/SROIE2019/train/img\\\\X51005676546.jpg', 'C:/Users/Admin/Desktop/CVPROJECT/flask/archive/SROIE2019/train/img\\\\X51005676547.jpg', 'C:/Users/Admin/Desktop/CVPROJECT/flask/archive/SROIE2019/train/img\\\\X51005676549.jpg', 'C:/Users/Admin/Desktop/CVPROJECT/flask/archive/SROIE2019/train/img\\\\X51005677328.jpg', 'C:/Users/Admin/Desktop/CVPROJECT/flask/archive/SROIE2019/train/img\\\\X51005677329.jpg', 'C:/Users/Admin/Desktop/CVPROJECT/flask/archive/SROIE2019/train/img\\\\X51005677331.jpg', 'C:/Users/Admin/Desktop/CVPROJECT/flask/archive/SROIE2019/train/img\\\\X51005677332.jpg', 'C:/Users/Admin/Desktop/CVPROJECT/flask/archive/SROIE2019/train/img\\\\X51005677334.jpg', 'C:/Users/Admin/Desktop/CVPROJECT/flask/archive/SROIE2019/train/img\\\\X51005677335.jpg', 'C:/Users/Admin/Desktop/CVPROJECT/flask/archive/SROIE2019/train/img\\\\X51005677339.jpg', 'C:/Users/Admin/Desktop/CVPROJECT/flask/archive/SROIE2019/train/img\\\\X51005685355.jpg', 'C:/Users/Admin/Desktop/CVPROJECT/flask/archive/SROIE2019/train/img\\\\X51005685357.jpg', 'C:/Users/Admin/Desktop/CVPROJECT/flask/archive/SROIE2019/train/img\\\\X51005705722.jpg', 'C:/Users/Admin/Desktop/CVPROJECT/flask/archive/SROIE2019/train/img\\\\X51005705760.jpg', 'C:/Users/Admin/Desktop/CVPROJECT/flask/archive/SROIE2019/train/img\\\\X51005705804.jpg', 'C:/Users/Admin/Desktop/CVPROJECT/flask/archive/SROIE2019/train/img\\\\X51005711401.jpg', 'C:/Users/Admin/Desktop/CVPROJECT/flask/archive/SROIE2019/train/img\\\\X51005711403.jpg', 'C:/Users/Admin/Desktop/CVPROJECT/flask/archive/SROIE2019/train/img\\\\X51005711404.jpg', 'C:/Users/Admin/Desktop/CVPROJECT/flask/archive/SROIE2019/train/img\\\\X51005711441.jpg', 'C:/Users/Admin/Desktop/CVPROJECT/flask/archive/SROIE2019/train/img\\\\X51005711442.jpg', 'C:/Users/Admin/Desktop/CVPROJECT/flask/archive/SROIE2019/train/img\\\\X51005711445.jpg', 'C:/Users/Admin/Desktop/CVPROJECT/flask/archive/SROIE2019/train/img\\\\X51005711447.jpg', 'C:/Users/Admin/Desktop/CVPROJECT/flask/archive/SROIE2019/train/img\\\\X51005711451.jpg', 'C:/Users/Admin/Desktop/CVPROJECT/flask/archive/SROIE2019/train/img\\\\X51005711452.jpg', 'C:/Users/Admin/Desktop/CVPROJECT/flask/archive/SROIE2019/train/img\\\\X51005711453.jpg', 'C:/Users/Admin/Desktop/CVPROJECT/flask/archive/SROIE2019/train/img\\\\X51005711454.jpg', 'C:/Users/Admin/Desktop/CVPROJECT/flask/archive/SROIE2019/train/img\\\\X51005711456.jpg', 'C:/Users/Admin/Desktop/CVPROJECT/flask/archive/SROIE2019/train/img\\\\X51005712017.jpg', 'C:/Users/Admin/Desktop/CVPROJECT/flask/archive/SROIE2019/train/img\\\\X51005712021.jpg', 'C:/Users/Admin/Desktop/CVPROJECT/flask/archive/SROIE2019/train/img\\\\X51005712038.jpg', 'C:/Users/Admin/Desktop/CVPROJECT/flask/archive/SROIE2019/train/img\\\\X51005712039.jpg', 'C:/Users/Admin/Desktop/CVPROJECT/flask/archive/SROIE2019/train/img\\\\X51005715010.jpg', 'C:/Users/Admin/Desktop/CVPROJECT/flask/archive/SROIE2019/train/img\\\\X51005715451.jpg', 'C:/Users/Admin/Desktop/CVPROJECT/flask/archive/SROIE2019/train/img\\\\X51005715456.jpg', 'C:/Users/Admin/Desktop/CVPROJECT/flask/archive/SROIE2019/train/img\\\\X51005717526.jpg', 'C:/Users/Admin/Desktop/CVPROJECT/flask/archive/SROIE2019/train/img\\\\X51005719814.jpg', 'C:/Users/Admin/Desktop/CVPROJECT/flask/archive/SROIE2019/train/img\\\\X51005719856.jpg', 'C:/Users/Admin/Desktop/CVPROJECT/flask/archive/SROIE2019/train/img\\\\X51005719862.jpg', 'C:/Users/Admin/Desktop/CVPROJECT/flask/archive/SROIE2019/train/img\\\\X51005719864.jpg', 'C:/Users/Admin/Desktop/CVPROJECT/flask/archive/SROIE2019/train/img\\\\X51005719873.jpg', 'C:/Users/Admin/Desktop/CVPROJECT/flask/archive/SROIE2019/train/img\\\\X51005719874.jpg', 'C:/Users/Admin/Desktop/CVPROJECT/flask/archive/SROIE2019/train/img\\\\X51005719882.jpg', 'C:/Users/Admin/Desktop/CVPROJECT/flask/archive/SROIE2019/train/img\\\\X51005719883.jpg', 'C:/Users/Admin/Desktop/CVPROJECT/flask/archive/SROIE2019/train/img\\\\X51005719886.jpg', 'C:/Users/Admin/Desktop/CVPROJECT/flask/archive/SROIE2019/train/img\\\\X51005719893.jpg', 'C:/Users/Admin/Desktop/CVPROJECT/flask/archive/SROIE2019/train/img\\\\X51005719896.jpg', 'C:/Users/Admin/Desktop/CVPROJECT/flask/archive/SROIE2019/train/img\\\\X51005719899.jpg', 'C:/Users/Admin/Desktop/CVPROJECT/flask/archive/SROIE2019/train/img\\\\X51005719902.jpg', 'C:/Users/Admin/Desktop/CVPROJECT/flask/archive/SROIE2019/train/img\\\\X51005719904.jpg', 'C:/Users/Admin/Desktop/CVPROJECT/flask/archive/SROIE2019/train/img\\\\X51005719906.jpg', 'C:/Users/Admin/Desktop/CVPROJECT/flask/archive/SROIE2019/train/img\\\\X51005719912.jpg', 'C:/Users/Admin/Desktop/CVPROJECT/flask/archive/SROIE2019/train/img\\\\X51005719914.jpg', 'C:/Users/Admin/Desktop/CVPROJECT/flask/archive/SROIE2019/train/img\\\\X51005719917.jpg', 'C:/Users/Admin/Desktop/CVPROJECT/flask/archive/SROIE2019/train/img\\\\X51005722668.jpg', 'C:/Users/Admin/Desktop/CVPROJECT/flask/archive/SROIE2019/train/img\\\\X51005722699.jpg', 'C:/Users/Admin/Desktop/CVPROJECT/flask/archive/SROIE2019/train/img\\\\X51005724554.jpg', 'C:/Users/Admin/Desktop/CVPROJECT/flask/archive/SROIE2019/train/img\\\\X51005724621.jpg', 'C:/Users/Admin/Desktop/CVPROJECT/flask/archive/SROIE2019/train/img\\\\X51005724627.jpg', 'C:/Users/Admin/Desktop/CVPROJECT/flask/archive/SROIE2019/train/img\\\\X51005724629.jpg', 'C:/Users/Admin/Desktop/CVPROJECT/flask/archive/SROIE2019/train/img\\\\X51005741944.jpg', 'C:/Users/Admin/Desktop/CVPROJECT/flask/archive/SROIE2019/train/img\\\\X51005742068.jpg', 'C:/Users/Admin/Desktop/CVPROJECT/flask/archive/SROIE2019/train/img\\\\X51005745183.jpg', 'C:/Users/Admin/Desktop/CVPROJECT/flask/archive/SROIE2019/train/img\\\\X51005745187.jpg', 'C:/Users/Admin/Desktop/CVPROJECT/flask/archive/SROIE2019/train/img\\\\X51005745188.jpg', 'C:/Users/Admin/Desktop/CVPROJECT/flask/archive/SROIE2019/train/img\\\\X51005745190.jpg', 'C:/Users/Admin/Desktop/CVPROJECT/flask/archive/SROIE2019/train/img\\\\X51005745214.jpg', 'C:/Users/Admin/Desktop/CVPROJECT/flask/archive/SROIE2019/train/img\\\\X51005745249.jpg', 'C:/Users/Admin/Desktop/CVPROJECT/flask/archive/SROIE2019/train/img\\\\X51005745296.jpg', 'C:/Users/Admin/Desktop/CVPROJECT/flask/archive/SROIE2019/train/img\\\\X51005746140.jpg', 'C:/Users/Admin/Desktop/CVPROJECT/flask/archive/SROIE2019/train/img\\\\X51005749895.jpg', 'C:/Users/Admin/Desktop/CVPROJECT/flask/archive/SROIE2019/train/img\\\\X51005749905.jpg', 'C:/Users/Admin/Desktop/CVPROJECT/flask/archive/SROIE2019/train/img\\\\X51005749912.jpg', 'C:/Users/Admin/Desktop/CVPROJECT/flask/archive/SROIE2019/train/img\\\\X51005757199.jpg', 'C:/Users/Admin/Desktop/CVPROJECT/flask/archive/SROIE2019/train/img\\\\X51005757201.jpg', 'C:/Users/Admin/Desktop/CVPROJECT/flask/archive/SROIE2019/train/img\\\\X51005757235.jpg', 'C:/Users/Admin/Desktop/CVPROJECT/flask/archive/SROIE2019/train/img\\\\X51005757243.jpg', 'C:/Users/Admin/Desktop/CVPROJECT/flask/archive/SROIE2019/train/img\\\\X51005757248.jpg', 'C:/Users/Admin/Desktop/CVPROJECT/flask/archive/SROIE2019/train/img\\\\X51005757273.jpg', 'C:/Users/Admin/Desktop/CVPROJECT/flask/archive/SROIE2019/train/img\\\\X51005757286.jpg', 'C:/Users/Admin/Desktop/CVPROJECT/flask/archive/SROIE2019/train/img\\\\X51005757290.jpg', 'C:/Users/Admin/Desktop/CVPROJECT/flask/archive/SROIE2019/train/img\\\\X51005757294.jpg', 'C:/Users/Admin/Desktop/CVPROJECT/flask/archive/SROIE2019/train/img\\\\X51005757304.jpg', 'C:/Users/Admin/Desktop/CVPROJECT/flask/archive/SROIE2019/train/img\\\\X51005757323.jpg', 'C:/Users/Admin/Desktop/CVPROJECT/flask/archive/SROIE2019/train/img\\\\X51005757324.jpg', 'C:/Users/Admin/Desktop/CVPROJECT/flask/archive/SROIE2019/train/img\\\\X51005757346.jpg', 'C:/Users/Admin/Desktop/CVPROJECT/flask/archive/SROIE2019/train/img\\\\X51005757349.jpg', 'C:/Users/Admin/Desktop/CVPROJECT/flask/archive/SROIE2019/train/img\\\\X51005757351.jpg', 'C:/Users/Admin/Desktop/CVPROJECT/flask/archive/SROIE2019/train/img\\\\X51005757353.jpg', 'C:/Users/Admin/Desktop/CVPROJECT/flask/archive/SROIE2019/train/img\\\\X51005763940.jpg', 'C:/Users/Admin/Desktop/CVPROJECT/flask/archive/SROIE2019/train/img\\\\X51005806678.jpg', 'C:/Users/Admin/Desktop/CVPROJECT/flask/archive/SROIE2019/train/img\\\\X51005806679.jpg', 'C:/Users/Admin/Desktop/CVPROJECT/flask/archive/SROIE2019/train/img\\\\X51005806685.jpg', 'C:/Users/Admin/Desktop/CVPROJECT/flask/archive/SROIE2019/train/img\\\\X51005806698.jpg', 'C:/Users/Admin/Desktop/CVPROJECT/flask/archive/SROIE2019/train/img\\\\X51005806702.jpg', 'C:/Users/Admin/Desktop/CVPROJECT/flask/archive/SROIE2019/train/img\\\\X51005806703.jpg', 'C:/Users/Admin/Desktop/CVPROJECT/flask/archive/SROIE2019/train/img\\\\X51005806716.jpg', 'C:/Users/Admin/Desktop/CVPROJECT/flask/archive/SROIE2019/train/img\\\\X51005889296.jpg', 'C:/Users/Admin/Desktop/CVPROJECT/flask/archive/SROIE2019/train/img\\\\X51006008057.jpg', 'C:/Users/Admin/Desktop/CVPROJECT/flask/archive/SROIE2019/train/img\\\\X51006008073.jpg', 'C:/Users/Admin/Desktop/CVPROJECT/flask/archive/SROIE2019/train/img\\\\X51006008074.jpg', 'C:/Users/Admin/Desktop/CVPROJECT/flask/archive/SROIE2019/train/img\\\\X51006008086.jpg', 'C:/Users/Admin/Desktop/CVPROJECT/flask/archive/SROIE2019/train/img\\\\X51006008089.jpg', 'C:/Users/Admin/Desktop/CVPROJECT/flask/archive/SROIE2019/train/img\\\\X51006008091.jpg', 'C:/Users/Admin/Desktop/CVPROJECT/flask/archive/SROIE2019/train/img\\\\X51006008095.jpg', 'C:/Users/Admin/Desktop/CVPROJECT/flask/archive/SROIE2019/train/img\\\\X51006008197.jpg', 'C:/Users/Admin/Desktop/CVPROJECT/flask/archive/SROIE2019/train/img\\\\X51006311758.jpg', 'C:/Users/Admin/Desktop/CVPROJECT/flask/archive/SROIE2019/train/img\\\\X51006311764.jpg', 'C:/Users/Admin/Desktop/CVPROJECT/flask/archive/SROIE2019/train/img\\\\X51006311767.jpg', 'C:/Users/Admin/Desktop/CVPROJECT/flask/archive/SROIE2019/train/img\\\\X51006311778.jpg', 'C:/Users/Admin/Desktop/CVPROJECT/flask/archive/SROIE2019/train/img\\\\X51006311779.jpg', 'C:/Users/Admin/Desktop/CVPROJECT/flask/archive/SROIE2019/train/img\\\\X51006311780.jpg', 'C:/Users/Admin/Desktop/CVPROJECT/flask/archive/SROIE2019/train/img\\\\X51006327976.jpg', 'C:/Users/Admin/Desktop/CVPROJECT/flask/archive/SROIE2019/train/img\\\\X51006327978.jpg', 'C:/Users/Admin/Desktop/CVPROJECT/flask/archive/SROIE2019/train/img\\\\X51006328913.jpg', 'C:/Users/Admin/Desktop/CVPROJECT/flask/archive/SROIE2019/train/img\\\\X51006328919.jpg', 'C:/Users/Admin/Desktop/CVPROJECT/flask/archive/SROIE2019/train/img\\\\X51006328920.jpg', 'C:/Users/Admin/Desktop/CVPROJECT/flask/archive/SROIE2019/train/img\\\\X51006329395.jpg', 'C:/Users/Admin/Desktop/CVPROJECT/flask/archive/SROIE2019/train/img\\\\X51006329399.jpg', 'C:/Users/Admin/Desktop/CVPROJECT/flask/archive/SROIE2019/train/img\\\\X51006329402.jpg', 'C:/Users/Admin/Desktop/CVPROJECT/flask/archive/SROIE2019/train/img\\\\X51006332575.jpg', 'C:/Users/Admin/Desktop/CVPROJECT/flask/archive/SROIE2019/train/img\\\\X51006332649.jpg', 'C:/Users/Admin/Desktop/CVPROJECT/flask/archive/SROIE2019/train/img\\\\X51006334699.jpg', 'C:/Users/Admin/Desktop/CVPROJECT/flask/archive/SROIE2019/train/img\\\\X51006334741.jpg', 'C:/Users/Admin/Desktop/CVPROJECT/flask/archive/SROIE2019/train/img\\\\X51006334926.jpg', 'C:/Users/Admin/Desktop/CVPROJECT/flask/archive/SROIE2019/train/img\\\\X51006335314.jpg', 'C:/Users/Admin/Desktop/CVPROJECT/flask/archive/SROIE2019/train/img\\\\X51006335547.jpg', 'C:/Users/Admin/Desktop/CVPROJECT/flask/archive/SROIE2019/train/img\\\\X51006335552.jpg', 'C:/Users/Admin/Desktop/CVPROJECT/flask/archive/SROIE2019/train/img\\\\X51006349086.jpg', 'C:/Users/Admin/Desktop/CVPROJECT/flask/archive/SROIE2019/train/img\\\\X51006350750.jpg', 'C:/Users/Admin/Desktop/CVPROJECT/flask/archive/SROIE2019/train/img\\\\X51006350763.jpg', 'C:/Users/Admin/Desktop/CVPROJECT/flask/archive/SROIE2019/train/img\\\\X51006387740.jpg', 'C:/Users/Admin/Desktop/CVPROJECT/flask/archive/SROIE2019/train/img\\\\X51006387812.jpg', 'C:/Users/Admin/Desktop/CVPROJECT/flask/archive/SROIE2019/train/img\\\\X51006387813.jpg', 'C:/Users/Admin/Desktop/CVPROJECT/flask/archive/SROIE2019/train/img\\\\X51006387847.jpg', 'C:/Users/Admin/Desktop/CVPROJECT/flask/archive/SROIE2019/train/img\\\\X51006387850.jpg', 'C:/Users/Admin/Desktop/CVPROJECT/flask/archive/SROIE2019/train/img\\\\X51006387932.jpg', 'C:/Users/Admin/Desktop/CVPROJECT/flask/archive/SROIE2019/train/img\\\\X51006387951.jpg', 'C:/Users/Admin/Desktop/CVPROJECT/flask/archive/SROIE2019/train/img\\\\X51006387953.jpg', 'C:/Users/Admin/Desktop/CVPROJECT/flask/archive/SROIE2019/train/img\\\\X51006387971.jpg', 'C:/Users/Admin/Desktop/CVPROJECT/flask/archive/SROIE2019/train/img\\\\X51006388044.jpg', 'C:/Users/Admin/Desktop/CVPROJECT/flask/archive/SROIE2019/train/img\\\\X51006388064.jpg', 'C:/Users/Admin/Desktop/CVPROJECT/flask/archive/SROIE2019/train/img\\\\X51006388065.jpg', 'C:/Users/Admin/Desktop/CVPROJECT/flask/archive/SROIE2019/train/img\\\\X51006388066.jpg', 'C:/Users/Admin/Desktop/CVPROJECT/flask/archive/SROIE2019/train/img\\\\X51006388069.jpg', 'C:/Users/Admin/Desktop/CVPROJECT/flask/archive/SROIE2019/train/img\\\\X51006388082.jpg', 'C:/Users/Admin/Desktop/CVPROJECT/flask/archive/SROIE2019/train/img\\\\X51006389865.jpg', 'C:/Users/Admin/Desktop/CVPROJECT/flask/archive/SROIE2019/train/img\\\\X51006389884.jpg', 'C:/Users/Admin/Desktop/CVPROJECT/flask/archive/SROIE2019/train/img\\\\X51006389888.jpg', 'C:/Users/Admin/Desktop/CVPROJECT/flask/archive/SROIE2019/train/img\\\\X51006389893.jpg', 'C:/Users/Admin/Desktop/CVPROJECT/flask/archive/SROIE2019/train/img\\\\X51006389963.jpg', 'C:/Users/Admin/Desktop/CVPROJECT/flask/archive/SROIE2019/train/img\\\\X51006392122.jpg', 'C:/Users/Admin/Desktop/CVPROJECT/flask/archive/SROIE2019/train/img\\\\X51006392273.jpg', 'C:/Users/Admin/Desktop/CVPROJECT/flask/archive/SROIE2019/train/img\\\\X51006392299.jpg', 'C:/Users/Admin/Desktop/CVPROJECT/flask/archive/SROIE2019/train/img\\\\X51006392313.jpg', 'C:/Users/Admin/Desktop/CVPROJECT/flask/archive/SROIE2019/train/img\\\\X51006393376.jpg', 'C:/Users/Admin/Desktop/CVPROJECT/flask/archive/SROIE2019/train/img\\\\X51006393377.jpg', 'C:/Users/Admin/Desktop/CVPROJECT/flask/archive/SROIE2019/train/img\\\\X51006401723.jpg', 'C:/Users/Admin/Desktop/CVPROJECT/flask/archive/SROIE2019/train/img\\\\X51006401836.jpg', 'C:/Users/Admin/Desktop/CVPROJECT/flask/archive/SROIE2019/train/img\\\\X51006401869.jpg', 'C:/Users/Admin/Desktop/CVPROJECT/flask/archive/SROIE2019/train/img\\\\X51006401978.jpg', 'C:/Users/Admin/Desktop/CVPROJECT/flask/archive/SROIE2019/train/img\\\\X51006414392.jpg', 'C:/Users/Admin/Desktop/CVPROJECT/flask/archive/SROIE2019/train/img\\\\X51006414394.jpg', 'C:/Users/Admin/Desktop/CVPROJECT/flask/archive/SROIE2019/train/img\\\\X51006414429.jpg', 'C:/Users/Admin/Desktop/CVPROJECT/flask/archive/SROIE2019/train/img\\\\X51006414431.jpg', 'C:/Users/Admin/Desktop/CVPROJECT/flask/archive/SROIE2019/train/img\\\\X51006414470.jpg', 'C:/Users/Admin/Desktop/CVPROJECT/flask/archive/SROIE2019/train/img\\\\X51006414483.jpg', 'C:/Users/Admin/Desktop/CVPROJECT/flask/archive/SROIE2019/train/img\\\\X51006414485.jpg', 'C:/Users/Admin/Desktop/CVPROJECT/flask/archive/SROIE2019/train/img\\\\X51006414519.jpg', 'C:/Users/Admin/Desktop/CVPROJECT/flask/archive/SROIE2019/train/img\\\\X51006414533.jpg', 'C:/Users/Admin/Desktop/CVPROJECT/flask/archive/SROIE2019/train/img\\\\X51006414599.jpg', 'C:/Users/Admin/Desktop/CVPROJECT/flask/archive/SROIE2019/train/img\\\\X51006414631.jpg', 'C:/Users/Admin/Desktop/CVPROJECT/flask/archive/SROIE2019/train/img\\\\X51006414633.jpg', 'C:/Users/Admin/Desktop/CVPROJECT/flask/archive/SROIE2019/train/img\\\\X51006414636.jpg', 'C:/Users/Admin/Desktop/CVPROJECT/flask/archive/SROIE2019/train/img\\\\X51006414638.jpg', 'C:/Users/Admin/Desktop/CVPROJECT/flask/archive/SROIE2019/train/img\\\\X51006414671.jpg', 'C:/Users/Admin/Desktop/CVPROJECT/flask/archive/SROIE2019/train/img\\\\X51006414674.jpg', 'C:/Users/Admin/Desktop/CVPROJECT/flask/archive/SROIE2019/train/img\\\\X51006414675.jpg', 'C:/Users/Admin/Desktop/CVPROJECT/flask/archive/SROIE2019/train/img\\\\X51006414677.jpg', 'C:/Users/Admin/Desktop/CVPROJECT/flask/archive/SROIE2019/train/img\\\\X51006414679.jpg', 'C:/Users/Admin/Desktop/CVPROJECT/flask/archive/SROIE2019/train/img\\\\X51006414680.jpg', 'C:/Users/Admin/Desktop/CVPROJECT/flask/archive/SROIE2019/train/img\\\\X51006414700.jpg', 'C:/Users/Admin/Desktop/CVPROJECT/flask/archive/SROIE2019/train/img\\\\X51006414703.jpg', 'C:/Users/Admin/Desktop/CVPROJECT/flask/archive/SROIE2019/train/img\\\\X51006414711.jpg', 'C:/Users/Admin/Desktop/CVPROJECT/flask/archive/SROIE2019/train/img\\\\X51006414712.jpg', 'C:/Users/Admin/Desktop/CVPROJECT/flask/archive/SROIE2019/train/img\\\\X51006414713.jpg', 'C:/Users/Admin/Desktop/CVPROJECT/flask/archive/SROIE2019/train/img\\\\X51006414714.jpg', 'C:/Users/Admin/Desktop/CVPROJECT/flask/archive/SROIE2019/train/img\\\\X51006414718.jpg', 'C:/Users/Admin/Desktop/CVPROJECT/flask/archive/SROIE2019/train/img\\\\X51006414719.jpg', 'C:/Users/Admin/Desktop/CVPROJECT/flask/archive/SROIE2019/train/img\\\\X51006414720.jpg', 'C:/Users/Admin/Desktop/CVPROJECT/flask/archive/SROIE2019/train/img\\\\X51006414721.jpg', 'C:/Users/Admin/Desktop/CVPROJECT/flask/archive/SROIE2019/train/img\\\\X51006414733.jpg', 'C:/Users/Admin/Desktop/CVPROJECT/flask/archive/SROIE2019/train/img\\\\X51006441473.jpg', 'C:/Users/Admin/Desktop/CVPROJECT/flask/archive/SROIE2019/train/img\\\\X51006441474.jpg', 'C:/Users/Admin/Desktop/CVPROJECT/flask/archive/SROIE2019/train/img\\\\X51006466055.jpg', 'C:/Users/Admin/Desktop/CVPROJECT/flask/archive/SROIE2019/train/img\\\\X51006466056.jpg', 'C:/Users/Admin/Desktop/CVPROJECT/flask/archive/SROIE2019/train/img\\\\X51006466060.jpg', 'C:/Users/Admin/Desktop/CVPROJECT/flask/archive/SROIE2019/train/img\\\\X51006466062.jpg', 'C:/Users/Admin/Desktop/CVPROJECT/flask/archive/SROIE2019/train/img\\\\X51006466065.jpg', 'C:/Users/Admin/Desktop/CVPROJECT/flask/archive/SROIE2019/train/img\\\\X51006466066.jpg', 'C:/Users/Admin/Desktop/CVPROJECT/flask/archive/SROIE2019/train/img\\\\X51006466778.jpg', 'C:/Users/Admin/Desktop/CVPROJECT/flask/archive/SROIE2019/train/img\\\\X51006502529.jpg', 'C:/Users/Admin/Desktop/CVPROJECT/flask/archive/SROIE2019/train/img\\\\X51006502531.jpg', 'C:/Users/Admin/Desktop/CVPROJECT/flask/archive/SROIE2019/train/img\\\\X51006502533.jpg', 'C:/Users/Admin/Desktop/CVPROJECT/flask/archive/SROIE2019/train/img\\\\X51006554833.jpg', 'C:/Users/Admin/Desktop/CVPROJECT/flask/archive/SROIE2019/train/img\\\\X51006555072.jpg', 'C:/Users/Admin/Desktop/CVPROJECT/flask/archive/SROIE2019/train/img\\\\X51006555125.jpg', 'C:/Users/Admin/Desktop/CVPROJECT/flask/archive/SROIE2019/train/img\\\\X51006555570.jpg', 'C:/Users/Admin/Desktop/CVPROJECT/flask/archive/SROIE2019/train/img\\\\X51006555780.jpg', 'C:/Users/Admin/Desktop/CVPROJECT/flask/archive/SROIE2019/train/img\\\\X51006555784.jpg', 'C:/Users/Admin/Desktop/CVPROJECT/flask/archive/SROIE2019/train/img\\\\X51006555806.jpg', 'C:/Users/Admin/Desktop/CVPROJECT/flask/archive/SROIE2019/train/img\\\\X51006555814.jpg', 'C:/Users/Admin/Desktop/CVPROJECT/flask/archive/SROIE2019/train/img\\\\X51006555817.jpg', 'C:/Users/Admin/Desktop/CVPROJECT/flask/archive/SROIE2019/train/img\\\\X51006555818.jpg', 'C:/Users/Admin/Desktop/CVPROJECT/flask/archive/SROIE2019/train/img\\\\X51006556591.jpg', 'C:/Users/Admin/Desktop/CVPROJECT/flask/archive/SROIE2019/train/img\\\\X51006556596.jpg', 'C:/Users/Admin/Desktop/CVPROJECT/flask/archive/SROIE2019/train/img\\\\X51006556604.jpg', 'C:/Users/Admin/Desktop/CVPROJECT/flask/archive/SROIE2019/train/img\\\\X51006556646.jpg', 'C:/Users/Admin/Desktop/CVPROJECT/flask/archive/SROIE2019/train/img\\\\X51006556650.jpg', 'C:/Users/Admin/Desktop/CVPROJECT/flask/archive/SROIE2019/train/img\\\\X51006556656.jpg', 'C:/Users/Admin/Desktop/CVPROJECT/flask/archive/SROIE2019/train/img\\\\X51006556726.jpg', 'C:/Users/Admin/Desktop/CVPROJECT/flask/archive/SROIE2019/train/img\\\\X51006556730.jpg', 'C:/Users/Admin/Desktop/CVPROJECT/flask/archive/SROIE2019/train/img\\\\X51006556732.jpg', 'C:/Users/Admin/Desktop/CVPROJECT/flask/archive/SROIE2019/train/img\\\\X51006556738.jpg', 'C:/Users/Admin/Desktop/CVPROJECT/flask/archive/SROIE2019/train/img\\\\X51006556815.jpg', 'C:/Users/Admin/Desktop/CVPROJECT/flask/archive/SROIE2019/train/img\\\\X51006556818.jpg', 'C:/Users/Admin/Desktop/CVPROJECT/flask/archive/SROIE2019/train/img\\\\X51006556823.jpg', 'C:/Users/Admin/Desktop/CVPROJECT/flask/archive/SROIE2019/train/img\\\\X51006556824.jpg', 'C:/Users/Admin/Desktop/CVPROJECT/flask/archive/SROIE2019/train/img\\\\X51006556825.jpg', 'C:/Users/Admin/Desktop/CVPROJECT/flask/archive/SROIE2019/train/img\\\\X51006556828.jpg', 'C:/Users/Admin/Desktop/CVPROJECT/flask/archive/SROIE2019/train/img\\\\X51006556830.jpg', 'C:/Users/Admin/Desktop/CVPROJECT/flask/archive/SROIE2019/train/img\\\\X51006556831.jpg', 'C:/Users/Admin/Desktop/CVPROJECT/flask/archive/SROIE2019/train/img\\\\X51006556838.jpg', 'C:/Users/Admin/Desktop/CVPROJECT/flask/archive/SROIE2019/train/img\\\\X51006556839.jpg', 'C:/Users/Admin/Desktop/CVPROJECT/flask/archive/SROIE2019/train/img\\\\X51006556840.jpg', 'C:/Users/Admin/Desktop/CVPROJECT/flask/archive/SROIE2019/train/img\\\\X51006556841.jpg', 'C:/Users/Admin/Desktop/CVPROJECT/flask/archive/SROIE2019/train/img\\\\X51006556852.jpg', 'C:/Users/Admin/Desktop/CVPROJECT/flask/archive/SROIE2019/train/img\\\\X51006556861.jpg', 'C:/Users/Admin/Desktop/CVPROJECT/flask/archive/SROIE2019/train/img\\\\X51006557117.jpg', 'C:/Users/Admin/Desktop/CVPROJECT/flask/archive/SROIE2019/train/img\\\\X51006557119.jpg', 'C:/Users/Admin/Desktop/CVPROJECT/flask/archive/SROIE2019/train/img\\\\X51006557161.jpg', 'C:/Users/Admin/Desktop/CVPROJECT/flask/archive/SROIE2019/train/img\\\\X51006557164.jpg', 'C:/Users/Admin/Desktop/CVPROJECT/flask/archive/SROIE2019/train/img\\\\X51006557168.jpg', 'C:/Users/Admin/Desktop/CVPROJECT/flask/archive/SROIE2019/train/img\\\\X51006557170.jpg', 'C:/Users/Admin/Desktop/CVPROJECT/flask/archive/SROIE2019/train/img\\\\X51006557178.jpg', 'C:/Users/Admin/Desktop/CVPROJECT/flask/archive/SROIE2019/train/img\\\\X51006557179.jpg', 'C:/Users/Admin/Desktop/CVPROJECT/flask/archive/SROIE2019/train/img\\\\X51006557184.jpg', 'C:/Users/Admin/Desktop/CVPROJECT/flask/archive/SROIE2019/train/img\\\\X51006557185.jpg', 'C:/Users/Admin/Desktop/CVPROJECT/flask/archive/SROIE2019/train/img\\\\X51006557188.jpg', 'C:/Users/Admin/Desktop/CVPROJECT/flask/archive/SROIE2019/train/img\\\\X51006557193.jpg', 'C:/Users/Admin/Desktop/CVPROJECT/flask/archive/SROIE2019/train/img\\\\X51006557195.jpg', 'C:/Users/Admin/Desktop/CVPROJECT/flask/archive/SROIE2019/train/img\\\\X51006557198.jpg', 'C:/Users/Admin/Desktop/CVPROJECT/flask/archive/SROIE2019/train/img\\\\X51006557199.jpg', 'C:/Users/Admin/Desktop/CVPROJECT/flask/archive/SROIE2019/train/img\\\\X51006557202.jpg', 'C:/Users/Admin/Desktop/CVPROJECT/flask/archive/SROIE2019/train/img\\\\X51006557210.jpg', 'C:/Users/Admin/Desktop/CVPROJECT/flask/archive/SROIE2019/train/img\\\\X51006557213.jpg', 'C:/Users/Admin/Desktop/CVPROJECT/flask/archive/SROIE2019/train/img\\\\X51006557508.jpg', 'C:/Users/Admin/Desktop/CVPROJECT/flask/archive/SROIE2019/train/img\\\\X51006619341.jpg', 'C:/Users/Admin/Desktop/CVPROJECT/flask/archive/SROIE2019/train/img\\\\X51006619342.jpg', 'C:/Users/Admin/Desktop/CVPROJECT/flask/archive/SROIE2019/train/img\\\\X51006619343.jpg', 'C:/Users/Admin/Desktop/CVPROJECT/flask/archive/SROIE2019/train/img\\\\X51006619496.jpg', 'C:/Users/Admin/Desktop/CVPROJECT/flask/archive/SROIE2019/train/img\\\\X51006619545.jpg', 'C:/Users/Admin/Desktop/CVPROJECT/flask/archive/SROIE2019/train/img\\\\X51006619550.jpg', 'C:/Users/Admin/Desktop/CVPROJECT/flask/archive/SROIE2019/train/img\\\\X51006619561.jpg', 'C:/Users/Admin/Desktop/CVPROJECT/flask/archive/SROIE2019/train/img\\\\X51006619563.jpg', 'C:/Users/Admin/Desktop/CVPROJECT/flask/archive/SROIE2019/train/img\\\\X51006619566.jpg', 'C:/Users/Admin/Desktop/CVPROJECT/flask/archive/SROIE2019/train/img\\\\X51006619694.jpg', 'C:/Users/Admin/Desktop/CVPROJECT/flask/archive/SROIE2019/train/img\\\\X51006619696.jpg', 'C:/Users/Admin/Desktop/CVPROJECT/flask/archive/SROIE2019/train/img\\\\X51006619697.jpg', 'C:/Users/Admin/Desktop/CVPROJECT/flask/archive/SROIE2019/train/img\\\\X51006619698.jpg', 'C:/Users/Admin/Desktop/CVPROJECT/flask/archive/SROIE2019/train/img\\\\X51006619709.jpg', 'C:/Users/Admin/Desktop/CVPROJECT/flask/archive/SROIE2019/train/img\\\\X51006619758.jpg', 'C:/Users/Admin/Desktop/CVPROJECT/flask/archive/SROIE2019/train/img\\\\X51006619765.jpg', 'C:/Users/Admin/Desktop/CVPROJECT/flask/archive/SROIE2019/train/img\\\\X51006619772.jpg', 'C:/Users/Admin/Desktop/CVPROJECT/flask/archive/SROIE2019/train/img\\\\X51006619777.jpg', 'C:/Users/Admin/Desktop/CVPROJECT/flask/archive/SROIE2019/train/img\\\\X51006619780.jpg', 'C:/Users/Admin/Desktop/CVPROJECT/flask/archive/SROIE2019/train/img\\\\X51006619783.jpg', 'C:/Users/Admin/Desktop/CVPROJECT/flask/archive/SROIE2019/train/img\\\\X51006619785.jpg', 'C:/Users/Admin/Desktop/CVPROJECT/flask/archive/SROIE2019/train/img\\\\X51006619854.jpg', 'C:/Users/Admin/Desktop/CVPROJECT/flask/archive/SROIE2019/train/img\\\\X51006619862.jpg', 'C:/Users/Admin/Desktop/CVPROJECT/flask/archive/SROIE2019/train/img\\\\X51006620161.jpg', 'C:/Users/Admin/Desktop/CVPROJECT/flask/archive/SROIE2019/train/img\\\\X51006620176.jpg', 'C:/Users/Admin/Desktop/CVPROJECT/flask/archive/SROIE2019/train/img\\\\X51006620181.jpg', 'C:/Users/Admin/Desktop/CVPROJECT/flask/archive/SROIE2019/train/img\\\\X51006620186.jpg', 'C:/Users/Admin/Desktop/CVPROJECT/flask/archive/SROIE2019/train/img\\\\X51006620187.jpg', 'C:/Users/Admin/Desktop/CVPROJECT/flask/archive/SROIE2019/train/img\\\\X51006620189.jpg', 'C:/Users/Admin/Desktop/CVPROJECT/flask/archive/SROIE2019/train/img\\\\X51006620190.jpg', 'C:/Users/Admin/Desktop/CVPROJECT/flask/archive/SROIE2019/train/img\\\\X51006620191.jpg', 'C:/Users/Admin/Desktop/CVPROJECT/flask/archive/SROIE2019/train/img\\\\X51006620414.jpg', 'C:/Users/Admin/Desktop/CVPROJECT/flask/archive/SROIE2019/train/img\\\\X51006647932.jpg', 'C:/Users/Admin/Desktop/CVPROJECT/flask/archive/SROIE2019/train/img\\\\X51006679216.jpg', 'C:/Users/Admin/Desktop/CVPROJECT/flask/archive/SROIE2019/train/img\\\\X51006679222.jpg', 'C:/Users/Admin/Desktop/CVPROJECT/flask/archive/SROIE2019/train/img\\\\X51006713996.jpg', 'C:/Users/Admin/Desktop/CVPROJECT/flask/archive/SROIE2019/train/img\\\\X51006714065.jpg', 'C:/Users/Admin/Desktop/CVPROJECT/flask/archive/SROIE2019/train/img\\\\X51006733494.jpg', 'C:/Users/Admin/Desktop/CVPROJECT/flask/archive/SROIE2019/train/img\\\\X51006828217.jpg', 'C:/Users/Admin/Desktop/CVPROJECT/flask/archive/SROIE2019/train/img\\\\X51006856981.jpg', 'C:/Users/Admin/Desktop/CVPROJECT/flask/archive/SROIE2019/train/img\\\\X51006857071.jpg', 'C:/Users/Admin/Desktop/CVPROJECT/flask/archive/SROIE2019/train/img\\\\X51006857265.jpg', 'C:/Users/Admin/Desktop/CVPROJECT/flask/archive/SROIE2019/train/img\\\\X51006857660.jpg', 'C:/Users/Admin/Desktop/CVPROJECT/flask/archive/SROIE2019/train/img\\\\X51006867435.jpg', 'C:/Users/Admin/Desktop/CVPROJECT/flask/archive/SROIE2019/train/img\\\\X51006867436.jpg', 'C:/Users/Admin/Desktop/CVPROJECT/flask/archive/SROIE2019/train/img\\\\X51006882603.jpg', 'C:/Users/Admin/Desktop/CVPROJECT/flask/archive/SROIE2019/train/img\\\\X51006912960.jpg', 'C:/Users/Admin/Desktop/CVPROJECT/flask/archive/SROIE2019/train/img\\\\X51006912972.jpg', 'C:/Users/Admin/Desktop/CVPROJECT/flask/archive/SROIE2019/train/img\\\\X51006912974.jpg', 'C:/Users/Admin/Desktop/CVPROJECT/flask/archive/SROIE2019/train/img\\\\X51006913007.jpg', 'C:/Users/Admin/Desktop/CVPROJECT/flask/archive/SROIE2019/train/img\\\\X51006913019.jpg', 'C:/Users/Admin/Desktop/CVPROJECT/flask/archive/SROIE2019/train/img\\\\X51006913023.jpg', 'C:/Users/Admin/Desktop/CVPROJECT/flask/archive/SROIE2019/train/img\\\\X51006913024.jpg', 'C:/Users/Admin/Desktop/CVPROJECT/flask/archive/SROIE2019/train/img\\\\X51006913028.jpg', 'C:/Users/Admin/Desktop/CVPROJECT/flask/archive/SROIE2019/train/img\\\\X51006913030.jpg', 'C:/Users/Admin/Desktop/CVPROJECT/flask/archive/SROIE2019/train/img\\\\X51006913031.jpg', 'C:/Users/Admin/Desktop/CVPROJECT/flask/archive/SROIE2019/train/img\\\\X51006913051.jpg', 'C:/Users/Admin/Desktop/CVPROJECT/flask/archive/SROIE2019/train/img\\\\X51006913054.jpg', 'C:/Users/Admin/Desktop/CVPROJECT/flask/archive/SROIE2019/train/img\\\\X51006913055.jpg', 'C:/Users/Admin/Desktop/CVPROJECT/flask/archive/SROIE2019/train/img\\\\X51006913059.jpg', 'C:/Users/Admin/Desktop/CVPROJECT/flask/archive/SROIE2019/train/img\\\\X51006913068.jpg', 'C:/Users/Admin/Desktop/CVPROJECT/flask/archive/SROIE2019/train/img\\\\X51006913070.jpg', 'C:/Users/Admin/Desktop/CVPROJECT/flask/archive/SROIE2019/train/img\\\\X51006913073.jpg', 'C:/Users/Admin/Desktop/CVPROJECT/flask/archive/SROIE2019/train/img\\\\X51006913074.jpg', 'C:/Users/Admin/Desktop/CVPROJECT/flask/archive/SROIE2019/train/img\\\\X51007103578.jpg', 'C:/Users/Admin/Desktop/CVPROJECT/flask/archive/SROIE2019/train/img\\\\X51007103599.jpg', 'C:/Users/Admin/Desktop/CVPROJECT/flask/archive/SROIE2019/train/img\\\\X51007103639.jpg', 'C:/Users/Admin/Desktop/CVPROJECT/flask/archive/SROIE2019/train/img\\\\X51007103641.jpg', 'C:/Users/Admin/Desktop/CVPROJECT/flask/archive/SROIE2019/train/img\\\\X51007103643.jpg', 'C:/Users/Admin/Desktop/CVPROJECT/flask/archive/SROIE2019/train/img\\\\X51007103675.jpg', 'C:/Users/Admin/Desktop/CVPROJECT/flask/archive/SROIE2019/train/img\\\\X51007103681.jpg', 'C:/Users/Admin/Desktop/CVPROJECT/flask/archive/SROIE2019/train/img\\\\X51007103688.jpg', 'C:/Users/Admin/Desktop/CVPROJECT/flask/archive/SROIE2019/train/img\\\\X51007103691.jpg', 'C:/Users/Admin/Desktop/CVPROJECT/flask/archive/SROIE2019/train/img\\\\X51007103692.jpg', 'C:/Users/Admin/Desktop/CVPROJECT/flask/archive/SROIE2019/train/img\\\\X51007103702.jpg', 'C:/Users/Admin/Desktop/CVPROJECT/flask/archive/SROIE2019/train/img\\\\X51007135037.jpg', 'C:/Users/Admin/Desktop/CVPROJECT/flask/archive/SROIE2019/train/img\\\\X51007135247.jpg', 'C:/Users/Admin/Desktop/CVPROJECT/flask/archive/SROIE2019/train/img\\\\X51007225398.jpg', 'C:/Users/Admin/Desktop/CVPROJECT/flask/archive/SROIE2019/train/img\\\\X51007225399.jpg', 'C:/Users/Admin/Desktop/CVPROJECT/flask/archive/SROIE2019/train/img\\\\X51007225417.jpg', 'C:/Users/Admin/Desktop/CVPROJECT/flask/archive/SROIE2019/train/img\\\\X51007225442.jpg', 'C:/Users/Admin/Desktop/CVPROJECT/flask/archive/SROIE2019/train/img\\\\X51007228448.jpg', 'C:/Users/Admin/Desktop/CVPROJECT/flask/archive/SROIE2019/train/img\\\\X51007231336.jpg', 'C:/Users/Admin/Desktop/CVPROJECT/flask/archive/SROIE2019/train/img\\\\X51007231338.jpg', 'C:/Users/Admin/Desktop/CVPROJECT/flask/archive/SROIE2019/train/img\\\\X51007231344.jpg', 'C:/Users/Admin/Desktop/CVPROJECT/flask/archive/SROIE2019/train/img\\\\X51007231361.jpg', 'C:/Users/Admin/Desktop/CVPROJECT/flask/archive/SROIE2019/train/img\\\\X51007231365.jpg', 'C:/Users/Admin/Desktop/CVPROJECT/flask/archive/SROIE2019/train/img\\\\X51007231370.jpg', 'C:/Users/Admin/Desktop/CVPROJECT/flask/archive/SROIE2019/train/img\\\\X51007231374.jpg', 'C:/Users/Admin/Desktop/CVPROJECT/flask/archive/SROIE2019/train/img\\\\X51007262315.jpg', 'C:/Users/Admin/Desktop/CVPROJECT/flask/archive/SROIE2019/train/img\\\\X51007262328.jpg', 'C:/Users/Admin/Desktop/CVPROJECT/flask/archive/SROIE2019/train/img\\\\X51007262330.jpg', 'C:/Users/Admin/Desktop/CVPROJECT/flask/archive/SROIE2019/train/img\\\\X51007339094.jpg', 'C:/Users/Admin/Desktop/CVPROJECT/flask/archive/SROIE2019/train/img\\\\X51007339095.jpg', 'C:/Users/Admin/Desktop/CVPROJECT/flask/archive/SROIE2019/train/img\\\\X51007339097.jpg', 'C:/Users/Admin/Desktop/CVPROJECT/flask/archive/SROIE2019/train/img\\\\X51007339098.jpg', 'C:/Users/Admin/Desktop/CVPROJECT/flask/archive/SROIE2019/train/img\\\\X51007339100.jpg', 'C:/Users/Admin/Desktop/CVPROJECT/flask/archive/SROIE2019/train/img\\\\X51007339106.jpg', 'C:/Users/Admin/Desktop/CVPROJECT/flask/archive/SROIE2019/train/img\\\\X51007339107.jpg', 'C:/Users/Admin/Desktop/CVPROJECT/flask/archive/SROIE2019/train/img\\\\X51007339110.jpg', 'C:/Users/Admin/Desktop/CVPROJECT/flask/archive/SROIE2019/train/img\\\\X51007339111.jpg', 'C:/Users/Admin/Desktop/CVPROJECT/flask/archive/SROIE2019/train/img\\\\X51007339112.jpg', 'C:/Users/Admin/Desktop/CVPROJECT/flask/archive/SROIE2019/train/img\\\\X51007339113.jpg', 'C:/Users/Admin/Desktop/CVPROJECT/flask/archive/SROIE2019/train/img\\\\X51007339114.jpg', 'C:/Users/Admin/Desktop/CVPROJECT/flask/archive/SROIE2019/train/img\\\\X51007339115.jpg', 'C:/Users/Admin/Desktop/CVPROJECT/flask/archive/SROIE2019/train/img\\\\X51007339117.jpg', 'C:/Users/Admin/Desktop/CVPROJECT/flask/archive/SROIE2019/train/img\\\\X51007339118.jpg', 'C:/Users/Admin/Desktop/CVPROJECT/flask/archive/SROIE2019/train/img\\\\X51007339120.jpg', 'C:/Users/Admin/Desktop/CVPROJECT/flask/archive/SROIE2019/train/img\\\\X51007339126.jpg', 'C:/Users/Admin/Desktop/CVPROJECT/flask/archive/SROIE2019/train/img\\\\X51007339130.jpg', 'C:/Users/Admin/Desktop/CVPROJECT/flask/archive/SROIE2019/train/img\\\\X51007339131.jpg', 'C:/Users/Admin/Desktop/CVPROJECT/flask/archive/SROIE2019/train/img\\\\X51007339132.jpg', 'C:/Users/Admin/Desktop/CVPROJECT/flask/archive/SROIE2019/train/img\\\\X51007339133.jpg', 'C:/Users/Admin/Desktop/CVPROJECT/flask/archive/SROIE2019/train/img\\\\X51007339135.jpg', 'C:/Users/Admin/Desktop/CVPROJECT/flask/archive/SROIE2019/train/img\\\\X51007339136.jpg', 'C:/Users/Admin/Desktop/CVPROJECT/flask/archive/SROIE2019/train/img\\\\X51007339139.jpg', 'C:/Users/Admin/Desktop/CVPROJECT/flask/archive/SROIE2019/train/img\\\\X51007339146.jpg', 'C:/Users/Admin/Desktop/CVPROJECT/flask/archive/SROIE2019/train/img\\\\X51007339150.jpg', 'C:/Users/Admin/Desktop/CVPROJECT/flask/archive/SROIE2019/train/img\\\\X51007339151.jpg', 'C:/Users/Admin/Desktop/CVPROJECT/flask/archive/SROIE2019/train/img\\\\X51007339152.jpg', 'C:/Users/Admin/Desktop/CVPROJECT/flask/archive/SROIE2019/train/img\\\\X51007339156.jpg', 'C:/Users/Admin/Desktop/CVPROJECT/flask/archive/SROIE2019/train/img\\\\X51007339157.jpg', 'C:/Users/Admin/Desktop/CVPROJECT/flask/archive/SROIE2019/train/img\\\\X51007339158.jpg', 'C:/Users/Admin/Desktop/CVPROJECT/flask/archive/SROIE2019/train/img\\\\X51007339162.jpg', 'C:/Users/Admin/Desktop/CVPROJECT/flask/archive/SROIE2019/train/img\\\\X51007339164.jpg', 'C:/Users/Admin/Desktop/CVPROJECT/flask/archive/SROIE2019/train/img\\\\X51007339165.jpg', 'C:/Users/Admin/Desktop/CVPROJECT/flask/archive/SROIE2019/train/img\\\\X51007339166.jpg', 'C:/Users/Admin/Desktop/CVPROJECT/flask/archive/SROIE2019/train/img\\\\X51007339167.jpg', 'C:/Users/Admin/Desktop/CVPROJECT/flask/archive/SROIE2019/train/img\\\\X51007339639.jpg', 'C:/Users/Admin/Desktop/CVPROJECT/flask/archive/SROIE2019/train/img\\\\X51007339642.jpg', 'C:/Users/Admin/Desktop/CVPROJECT/flask/archive/SROIE2019/train/img\\\\X51007339643.jpg', 'C:/Users/Admin/Desktop/CVPROJECT/flask/archive/SROIE2019/train/img\\\\X51007339647.jpg', 'C:/Users/Admin/Desktop/CVPROJECT/flask/archive/SROIE2019/train/img\\\\X51007339648.jpg', 'C:/Users/Admin/Desktop/CVPROJECT/flask/archive/SROIE2019/train/img\\\\X51007339650.jpg', 'C:/Users/Admin/Desktop/CVPROJECT/flask/archive/SROIE2019/train/img\\\\X51007339651.jpg', 'C:/Users/Admin/Desktop/CVPROJECT/flask/archive/SROIE2019/train/img\\\\X51007339653.jpg', 'C:/Users/Admin/Desktop/CVPROJECT/flask/archive/SROIE2019/train/img\\\\X51007339656.jpg', 'C:/Users/Admin/Desktop/CVPROJECT/flask/archive/SROIE2019/train/img\\\\X51007339657.jpg', 'C:/Users/Admin/Desktop/CVPROJECT/flask/archive/SROIE2019/train/img\\\\X51007339658.jpg', 'C:/Users/Admin/Desktop/CVPROJECT/flask/archive/SROIE2019/train/img\\\\X51007391372.jpg', 'C:/Users/Admin/Desktop/CVPROJECT/flask/archive/SROIE2019/train/img\\\\X51007419197.jpg', 'C:/Users/Admin/Desktop/CVPROJECT/flask/archive/SROIE2019/train/img\\\\X51007579726.jpg', 'C:/Users/Admin/Desktop/CVPROJECT/flask/archive/SROIE2019/train/img\\\\X51007843145.jpg', 'C:/Users/Admin/Desktop/CVPROJECT/flask/archive/SROIE2019/train/img\\\\X51007846269.jpg', 'C:/Users/Admin/Desktop/CVPROJECT/flask/archive/SROIE2019/train/img\\\\X51007846270.jpg', 'C:/Users/Admin/Desktop/CVPROJECT/flask/archive/SROIE2019/train/img\\\\X51007846286.jpg', 'C:/Users/Admin/Desktop/CVPROJECT/flask/archive/SROIE2019/train/img\\\\X51007846301.jpg', 'C:/Users/Admin/Desktop/CVPROJECT/flask/archive/SROIE2019/train/img\\\\X51007846302.jpg', 'C:/Users/Admin/Desktop/CVPROJECT/flask/archive/SROIE2019/train/img\\\\X51007846305.jpg', 'C:/Users/Admin/Desktop/CVPROJECT/flask/archive/SROIE2019/train/img\\\\X51007846307.jpg', 'C:/Users/Admin/Desktop/CVPROJECT/flask/archive/SROIE2019/train/img\\\\X51007846309.jpg', 'C:/Users/Admin/Desktop/CVPROJECT/flask/archive/SROIE2019/train/img\\\\X51007846325.jpg', 'C:/Users/Admin/Desktop/CVPROJECT/flask/archive/SROIE2019/train/img\\\\X51007846326.jpg', 'C:/Users/Admin/Desktop/CVPROJECT/flask/archive/SROIE2019/train/img\\\\X51007846350.jpg', 'C:/Users/Admin/Desktop/CVPROJECT/flask/archive/SROIE2019/train/img\\\\X51007846353.jpg', 'C:/Users/Admin/Desktop/CVPROJECT/flask/archive/SROIE2019/train/img\\\\X51007846357.jpg', 'C:/Users/Admin/Desktop/CVPROJECT/flask/archive/SROIE2019/train/img\\\\X51007846366.jpg', 'C:/Users/Admin/Desktop/CVPROJECT/flask/archive/SROIE2019/train/img\\\\X51007846368.jpg', 'C:/Users/Admin/Desktop/CVPROJECT/flask/archive/SROIE2019/train/img\\\\X51007846370.jpg', 'C:/Users/Admin/Desktop/CVPROJECT/flask/archive/SROIE2019/train/img\\\\X51007846388.jpg', 'C:/Users/Admin/Desktop/CVPROJECT/flask/archive/SROIE2019/train/img\\\\X51007846391.jpg', 'C:/Users/Admin/Desktop/CVPROJECT/flask/archive/SROIE2019/train/img\\\\X51007846393.jpg', 'C:/Users/Admin/Desktop/CVPROJECT/flask/archive/SROIE2019/train/img\\\\X51007846395.jpg', 'C:/Users/Admin/Desktop/CVPROJECT/flask/archive/SROIE2019/train/img\\\\X51007846398.jpg', 'C:/Users/Admin/Desktop/CVPROJECT/flask/archive/SROIE2019/train/img\\\\X51007846410.jpg', 'C:/Users/Admin/Desktop/CVPROJECT/flask/archive/SROIE2019/train/img\\\\X51007846412.jpg', 'C:/Users/Admin/Desktop/CVPROJECT/flask/archive/SROIE2019/train/img\\\\X51007846451.jpg', 'C:/Users/Admin/Desktop/CVPROJECT/flask/archive/SROIE2019/train/img\\\\X51008030560.jpg', 'C:/Users/Admin/Desktop/CVPROJECT/flask/archive/SROIE2019/train/img\\\\X51008030565.jpg', 'C:/Users/Admin/Desktop/CVPROJECT/flask/archive/SROIE2019/train/img\\\\X51008030566.jpg', 'C:/Users/Admin/Desktop/CVPROJECT/flask/archive/SROIE2019/train/img\\\\X51008042777.jpg', 'C:/Users/Admin/Desktop/CVPROJECT/flask/archive/SROIE2019/train/img\\\\X51008042778.jpg', 'C:/Users/Admin/Desktop/CVPROJECT/flask/archive/SROIE2019/train/img\\\\X51008042782.jpg', 'C:/Users/Admin/Desktop/CVPROJECT/flask/archive/SROIE2019/train/img\\\\X51008042783.jpg', 'C:/Users/Admin/Desktop/CVPROJECT/flask/archive/SROIE2019/train/img\\\\X51008042791.jpg', 'C:/Users/Admin/Desktop/CVPROJECT/flask/archive/SROIE2019/train/img\\\\X51008042792.jpg', 'C:/Users/Admin/Desktop/CVPROJECT/flask/archive/SROIE2019/train/img\\\\X51008042793.jpg', 'C:/Users/Admin/Desktop/CVPROJECT/flask/archive/SROIE2019/train/img\\\\X51008063849.jpg', 'C:/Users/Admin/Desktop/CVPROJECT/flask/archive/SROIE2019/train/img\\\\X51008064061.jpg', 'C:/Users/Admin/Desktop/CVPROJECT/flask/archive/SROIE2019/train/img\\\\X51008099041.jpg', 'C:/Users/Admin/Desktop/CVPROJECT/flask/archive/SROIE2019/train/img\\\\X51008099043.jpg', 'C:/Users/Admin/Desktop/CVPROJECT/flask/archive/SROIE2019/train/img\\\\X51008099044.jpg', 'C:/Users/Admin/Desktop/CVPROJECT/flask/archive/SROIE2019/train/img\\\\X51008099046.jpg', 'C:/Users/Admin/Desktop/CVPROJECT/flask/archive/SROIE2019/train/img\\\\X51008099048.jpg', 'C:/Users/Admin/Desktop/CVPROJECT/flask/archive/SROIE2019/train/img\\\\X51008099049.jpg', 'C:/Users/Admin/Desktop/CVPROJECT/flask/archive/SROIE2019/train/img\\\\X51008099054.jpg', 'C:/Users/Admin/Desktop/CVPROJECT/flask/archive/SROIE2019/train/img\\\\X51008099071.jpg', 'C:/Users/Admin/Desktop/CVPROJECT/flask/archive/SROIE2019/train/img\\\\X51008099073.jpg', 'C:/Users/Admin/Desktop/CVPROJECT/flask/archive/SROIE2019/train/img\\\\X51008099081.jpg', 'C:/Users/Admin/Desktop/CVPROJECT/flask/archive/SROIE2019/train/img\\\\X51008099083.jpg', 'C:/Users/Admin/Desktop/CVPROJECT/flask/archive/SROIE2019/train/img\\\\X51008099084.jpg', 'C:/Users/Admin/Desktop/CVPROJECT/flask/archive/SROIE2019/train/img\\\\X51008099085.jpg', 'C:/Users/Admin/Desktop/CVPROJECT/flask/archive/SROIE2019/train/img\\\\X51008099087.jpg', 'C:/Users/Admin/Desktop/CVPROJECT/flask/archive/SROIE2019/train/img\\\\X51008099089.jpg', 'C:/Users/Admin/Desktop/CVPROJECT/flask/archive/SROIE2019/train/img\\\\X51008099102.jpg', 'C:/Users/Admin/Desktop/CVPROJECT/flask/archive/SROIE2019/train/img\\\\X51008114216.jpg', 'C:/Users/Admin/Desktop/CVPROJECT/flask/archive/SROIE2019/train/img\\\\X51008114217.jpg', 'C:/Users/Admin/Desktop/CVPROJECT/flask/archive/SROIE2019/train/img\\\\X51008114260.jpg', 'C:/Users/Admin/Desktop/CVPROJECT/flask/archive/SROIE2019/train/img\\\\X51008114262.jpg', 'C:/Users/Admin/Desktop/CVPROJECT/flask/archive/SROIE2019/train/img\\\\X51008114266.jpg', 'C:/Users/Admin/Desktop/CVPROJECT/flask/archive/SROIE2019/train/img\\\\X51008114281.jpg', 'C:/Users/Admin/Desktop/CVPROJECT/flask/archive/SROIE2019/train/img\\\\X51008114282.jpg', 'C:/Users/Admin/Desktop/CVPROJECT/flask/archive/SROIE2019/train/img\\\\X51008114283.jpg', 'C:/Users/Admin/Desktop/CVPROJECT/flask/archive/SROIE2019/train/img\\\\X51008114284.jpg', 'C:/Users/Admin/Desktop/CVPROJECT/flask/archive/SROIE2019/train/img\\\\X51008114321.jpg', 'C:/Users/Admin/Desktop/CVPROJECT/flask/archive/SROIE2019/train/img\\\\X51008122920.jpg', 'C:/Users/Admin/Desktop/CVPROJECT/flask/archive/SROIE2019/train/img\\\\X51008123446.jpg', 'C:/Users/Admin/Desktop/CVPROJECT/flask/archive/SROIE2019/train/img\\\\X51008123447.jpg', 'C:/Users/Admin/Desktop/CVPROJECT/flask/archive/SROIE2019/train/img\\\\X51008123450.jpg', 'C:/Users/Admin/Desktop/CVPROJECT/flask/archive/SROIE2019/train/img\\\\X51008123451.jpg', 'C:/Users/Admin/Desktop/CVPROJECT/flask/archive/SROIE2019/train/img\\\\X51008123476.jpg', 'C:/Users/Admin/Desktop/CVPROJECT/flask/archive/SROIE2019/train/img\\\\X51008123580.jpg', 'C:/Users/Admin/Desktop/CVPROJECT/flask/archive/SROIE2019/train/img\\\\X51008123586.jpg', 'C:/Users/Admin/Desktop/CVPROJECT/flask/archive/SROIE2019/train/img\\\\X51008123599.jpg', 'C:/Users/Admin/Desktop/CVPROJECT/flask/archive/SROIE2019/train/img\\\\X51008123604.jpg', 'C:/Users/Admin/Desktop/CVPROJECT/flask/archive/SROIE2019/train/img\\\\X51008128052.jpg', 'C:/Users/Admin/Desktop/CVPROJECT/flask/archive/SROIE2019/train/img\\\\X51008128062.jpg', 'C:/Users/Admin/Desktop/CVPROJECT/flask/archive/SROIE2019/train/img\\\\X51008128065.jpg', 'C:/Users/Admin/Desktop/CVPROJECT/flask/archive/SROIE2019/train/img\\\\X51008142005.jpg', 'C:/Users/Admin/Desktop/CVPROJECT/flask/archive/SROIE2019/train/img\\\\X51008142030.jpg', 'C:/Users/Admin/Desktop/CVPROJECT/flask/archive/SROIE2019/train/img\\\\X51008142031.jpg', 'C:/Users/Admin/Desktop/CVPROJECT/flask/archive/SROIE2019/train/img\\\\X51008142032.jpg', 'C:/Users/Admin/Desktop/CVPROJECT/flask/archive/SROIE2019/train/img\\\\X51008142033.jpg', 'C:/Users/Admin/Desktop/CVPROJECT/flask/archive/SROIE2019/train/img\\\\X51008142034.jpg', 'C:/Users/Admin/Desktop/CVPROJECT/flask/archive/SROIE2019/train/img\\\\X51008142038.jpg', 'C:/Users/Admin/Desktop/CVPROJECT/flask/archive/SROIE2019/train/img\\\\X51008142058.jpg', 'C:/Users/Admin/Desktop/CVPROJECT/flask/archive/SROIE2019/train/img\\\\X51008142059.jpg', 'C:/Users/Admin/Desktop/CVPROJECT/flask/archive/SROIE2019/train/img\\\\X51008142060.jpg', 'C:/Users/Admin/Desktop/CVPROJECT/flask/archive/SROIE2019/train/img\\\\X51008142061.jpg', 'C:/Users/Admin/Desktop/CVPROJECT/flask/archive/SROIE2019/train/img\\\\X51008142062.jpg', 'C:/Users/Admin/Desktop/CVPROJECT/flask/archive/SROIE2019/train/img\\\\X51008142063.jpg', 'C:/Users/Admin/Desktop/CVPROJECT/flask/archive/SROIE2019/train/img\\\\X51008142065.jpg', 'C:/Users/Admin/Desktop/CVPROJECT/flask/archive/SROIE2019/train/img\\\\X51008142068.jpg', 'C:/Users/Admin/Desktop/CVPROJECT/flask/archive/SROIE2019/train/img\\\\X51008145450.jpg', 'C:/Users/Admin/Desktop/CVPROJECT/flask/archive/SROIE2019/train/img\\\\X51008145504.jpg', 'C:/Users/Admin/Desktop/CVPROJECT/flask/archive/SROIE2019/train/img\\\\X51008145505.jpg', 'C:/Users/Admin/Desktop/CVPROJECT/flask/archive/SROIE2019/train/img\\\\X51008164420.jpg', 'C:/Users/Admin/Desktop/CVPROJECT/flask/archive/SROIE2019/train/img\\\\X51008164510.jpg', 'C:/Users/Admin/Desktop/CVPROJECT/flask/archive/SROIE2019/train/img\\\\X51008164524.jpg', 'C:/Users/Admin/Desktop/CVPROJECT/flask/archive/SROIE2019/train/img\\\\X51008164525.jpg', 'C:/Users/Admin/Desktop/CVPROJECT/flask/archive/SROIE2019/train/img\\\\X51008164969.jpg', 'C:/Users/Admin/Desktop/CVPROJECT/flask/archive/SROIE2019/train/img\\\\X51008164991.jpg', 'C:/Users/Admin/Desktop/CVPROJECT/flask/archive/SROIE2019/train/img\\\\X51008164992.jpg', 'C:/Users/Admin/Desktop/CVPROJECT/flask/archive/SROIE2019/train/img\\\\X51008164996.jpg', 'C:/Users/Admin/Desktop/CVPROJECT/flask/archive/SROIE2019/train/img\\\\X51008164997.jpg', 'C:/Users/Admin/Desktop/CVPROJECT/flask/archive/SROIE2019/train/img\\\\X51008164998.jpg', 'C:/Users/Admin/Desktop/CVPROJECT/flask/archive/SROIE2019/train/img\\\\X51008164999.jpg', 'C:/Users/Admin/Desktop/CVPROJECT/flask/archive/SROIE2019/train/img\\\\X51009453801.jpg', 'C:/Users/Admin/Desktop/CVPROJECT/flask/archive/SROIE2019/train/img\\\\X51009453804.jpg']\n"
     ]
    }
   ],
   "source": [
    "print(files)"
   ]
  },
  {
   "cell_type": "code",
   "execution_count": 7,
   "metadata": {},
   "outputs": [],
   "source": [
    "\n",
    "from PIL import Image, ImageEnhance, ImageFilter\n",
    "\n",
    "def image_clearer(image):\n",
    "    # Open the image\n",
    "    img = Image.open(image)\n",
    "\n",
    "    # Rotate the image\n",
    "    img = img.rotate(90)\n",
    "\n",
    "    # Enhance image sharpness\n",
    "    enhancer = ImageEnhance.Sharpness(img)\n",
    "    img = enhancer.enhance(2)\n",
    "\n",
    "    # Enhance image brightness\n",
    "    enhancer = ImageEnhance.Brightness(img)\n",
    "    img = enhancer.enhance(1.5)\n",
    "\n",
    "    # Enhance image contrast\n",
    "    enhancer = ImageEnhance.Contrast(img)\n",
    "    img = enhancer.enhance(1.5)\n",
    "\n",
    "    # Remove image noise\n",
    "    img = img.filter(ImageFilter.MedianFilter(size=5))\n",
    "    return img\n"
   ]
  },
  {
   "cell_type": "code",
   "execution_count": null,
   "metadata": {},
   "outputs": [],
   "source": [
    "easyOCR_data = []\n",
    "for file in files:\n",
    "    files = {\"file\" : open(file,'rb') }\n",
    "    image = image_clearer(file)\n",
    "    text = pytesseract.image_to_string(image)\n",
    "    easyOCR_data.append(text)"
   ]
  },
  {
   "cell_type": "code",
   "execution_count": 22,
   "metadata": {},
   "outputs": [],
   "source": [
    "easyOCR_data = []\n",
    "for file in range(1):\n",
    "    files = \"C:/Users/Admin/Desktop/CV/bill3.png\"\n",
    "    image = image_clearer(files)\n",
    "    text = pytesseract.image_to_string(image)\n",
    "    easyOCR_data.append(text)"
   ]
  },
  {
   "cell_type": "code",
   "execution_count": 23,
   "metadata": {},
   "outputs": [
    {
     "name": "stdout",
     "output_type": "stream",
     "text": [
      "['.\\n*\\n\\n']\n"
     ]
    }
   ],
   "source": [
    "print(easyOCR_data)"
   ]
  },
  {
   "cell_type": "code",
   "execution_count": 7,
   "metadata": {},
   "outputs": [
    {
     "ename": "NameError",
     "evalue": "name 'df' is not defined",
     "output_type": "error",
     "traceback": [
      "\u001b[1;31m---------------------------------------------------------------------------\u001b[0m",
      "\u001b[1;31mNameError\u001b[0m                                 Traceback (most recent call last)",
      "\u001b[1;32m~\\AppData\\Local\\Temp\\ipykernel_7084\\2257830686.py\u001b[0m in \u001b[0;36m<cell line: 60>\u001b[1;34m()\u001b[0m\n\u001b[0;32m     65\u001b[0m     \u001b[0mtitle\u001b[0m \u001b[1;33m=\u001b[0m \u001b[0mextract_title\u001b[0m\u001b[1;33m(\u001b[0m\u001b[0mtext\u001b[0m\u001b[1;33m)\u001b[0m\u001b[1;33m\u001b[0m\u001b[1;33m\u001b[0m\u001b[0m\n\u001b[0;32m     66\u001b[0m     \u001b[0mproducts\u001b[0m \u001b[1;33m=\u001b[0m \u001b[0mextract_product\u001b[0m\u001b[1;33m(\u001b[0m\u001b[0mtext\u001b[0m\u001b[1;33m)\u001b[0m\u001b[1;33m\u001b[0m\u001b[1;33m\u001b[0m\u001b[0m\n\u001b[1;32m---> 67\u001b[1;33m     \u001b[0mdf\u001b[0m\u001b[1;33m.\u001b[0m\u001b[0mloc\u001b[0m\u001b[1;33m[\u001b[0m\u001b[0mi\u001b[0m\u001b[1;33m]\u001b[0m \u001b[1;33m=\u001b[0m \u001b[1;33m[\u001b[0m\u001b[0mdate\u001b[0m\u001b[1;33m,\u001b[0m\u001b[0mtitle\u001b[0m\u001b[1;33m,\u001b[0m\u001b[0mamount\u001b[0m\u001b[1;33m,\u001b[0m\u001b[0mamount_type\u001b[0m\u001b[1;33m,\u001b[0m\u001b[0mproducts\u001b[0m\u001b[1;33m]\u001b[0m\u001b[1;33m\u001b[0m\u001b[1;33m\u001b[0m\u001b[0m\n\u001b[0m\u001b[0;32m     68\u001b[0m \u001b[1;33m\u001b[0m\u001b[0m\n",
      "\u001b[1;31mNameError\u001b[0m: name 'df' is not defined"
     ]
    }
   ],
   "source": [
    "import re\n",
    "\n",
    "def extract_date(text):\n",
    "    try:\n",
    "        date_pattern = re.compile(r'\\d{1,2}[/\\-]\\d{1,2}[/\\-]\\d{2,4}')\n",
    "        dates = date_pattern.findall(text)\n",
    "        if dates:\n",
    "            return dates[0]\n",
    "        else:\n",
    "            return None\n",
    "    except:\n",
    "        return None\n",
    "\n",
    "def extract_amount(text):\n",
    "    try:\n",
    "        amount_pattern = re.compile(r'\\d+\\.\\d{2}')\n",
    "        amounts = amount_pattern.findall(text)\n",
    "        if amounts:\n",
    "            return amounts[0]\n",
    "        else:\n",
    "            return None\n",
    "    except:\n",
    "        return None\n",
    "\n",
    "def extract_amount_type(text):\n",
    "    try:\n",
    "        amount_type_pattern = re.compile(r'USD|EUR|INR|GBP')\n",
    "        amount_types = amount_type_pattern.findall(text)\n",
    "        if amount_types:\n",
    "            return amount_types[0]\n",
    "        else:\n",
    "            return None\n",
    "    except:\n",
    "        return None\n",
    "\n",
    "def extract_title(text):\n",
    "    try:\n",
    "        title_pattern = re.compile(r'(^|\\n)([A-Z][a-z]+(\\s[A-Z][a-z]+)*)+')\n",
    "        match = title_pattern.search(text)\n",
    "        if match:\n",
    "            title = match.group(0).strip()\n",
    "            return title\n",
    "        else:\n",
    "            return None\n",
    "    except:\n",
    "        return None\n",
    "\n",
    "def extract_product(text):\n",
    "    try:\n",
    "        product_pattern = r'(\\d+)\\s+([\\w\\s]+)\\s+([\\d\\.]+)'\n",
    "        products = re.findall(product_pattern, text)\n",
    "        if products:\n",
    "            return products\n",
    "        else:\n",
    "            return None\n",
    "    except:\n",
    "        return None\n",
    "\n",
    "# Example usage\n",
    "for i in range(len(easyOCR_data)):\n",
    "    text = easyOCR_data[i]\n",
    "    date = extract_date(text)\n",
    "    amount = extract_amount(text)\n",
    "    amount_type = extract_amount_type(text)\n",
    "    title = extract_title(text)\n",
    "    products = extract_product(text)\n",
    "    df.loc[i] = [date,title,amount,amount_type,products]\n",
    "\n"
   ]
  },
  {
   "cell_type": "code",
   "execution_count": 147,
   "metadata": {},
   "outputs": [],
   "source": [
    "import pandas as pd\n",
    "df = pd.DataFrame(columns=['Date','Title','Amount','Payment_Type','Products'])"
   ]
  },
  {
   "cell_type": "code",
   "execution_count": 164,
   "metadata": {},
   "outputs": [
    {
     "data": {
      "text/plain": [
       "Date                               None\n",
       "Title                            Qytrig\n",
       "Amount                             None\n",
       "Payment_Type                       None\n",
       "Products        [(23, roy CNT INE, 3.)]\n",
       "Name: 235, dtype: object"
      ]
     },
     "execution_count": 164,
     "metadata": {},
     "output_type": "execute_result"
    }
   ],
   "source": [
    "df.iloc[235]"
   ]
  },
  {
   "cell_type": "code",
   "execution_count": null,
   "metadata": {},
   "outputs": [],
   "source": [
    "df.to_csv('data.csv', index=False)"
   ]
  },
  {
   "attachments": {},
   "cell_type": "markdown",
   "metadata": {},
   "source": [
    "TESTING THE MODEL"
   ]
  }
 ],
 "metadata": {
  "kernelspec": {
   "display_name": "base",
   "language": "python",
   "name": "python3"
  },
  "language_info": {
   "codemirror_mode": {
    "name": "ipython",
    "version": 3
   },
   "file_extension": ".py",
   "mimetype": "text/x-python",
   "name": "python",
   "nbconvert_exporter": "python",
   "pygments_lexer": "ipython3",
   "version": "3.9.12"
  },
  "orig_nbformat": 4
 },
 "nbformat": 4,
 "nbformat_minor": 2
}
